{
  "nbformat": 4,
  "nbformat_minor": 0,
  "metadata": {
    "colab": {
      "name": "Assignment-009/6.ipynb",
      "provenance": [],
      "collapsed_sections": [],
      "authorship_tag": "ABX9TyPMot5r8Og2LNqQAHCM89N0",
      "include_colab_link": true
    },
    "kernelspec": {
      "name": "python3",
      "display_name": "Python 3"
    },
    "language_info": {
      "name": "python"
    }
  },
  "cells": [
    {
      "cell_type": "markdown",
      "metadata": {
        "id": "view-in-github",
        "colab_type": "text"
      },
      "source": [
        "<a href=\"https://colab.research.google.com/github/BurakAgcakaya/Assignment-005/blob/main/Assignment_009_6.ipynb\" target=\"_parent\"><img src=\"https://colab.research.google.com/assets/colab-badge.svg\" alt=\"Open In Colab\"/></a>"
      ]
    },
    {
      "cell_type": "code",
      "metadata": {
        "colab": {
          "base_uri": "https://localhost:8080/"
        },
        "id": "AV8z83M9k-fL",
        "outputId": "98ecadfc-1245-41e1-d42c-b8cf5a339966"
      },
      "source": [
        "prime  = []\n",
        "number = int(input(\"please enter the number you want sorted : \"))\n",
        "if number <= 2:\n",
        "  print(number,\"invalid\")\n",
        "elif number > 2:\n",
        "  for number in range(2,number ):\n",
        "    if number > 1:\n",
        "          for i in range(2,number):\n",
        "              if (number % i) == 0:\n",
        "                  break\n",
        "          else:\n",
        "              prime.append(number)\n",
        "print(prime)"
      ],
      "execution_count": 31,
      "outputs": [
        {
          "output_type": "stream",
          "text": [
            "please enter the number you want sorted : 100\n",
            "[2, 3, 5, 7, 11, 13, 17, 19, 23, 29, 31, 37, 41, 43, 47, 53, 59, 61, 67, 71, 73, 79, 83, 89, 97]\n"
          ],
          "name": "stdout"
        }
      ]
    },
    {
      "cell_type": "code",
      "metadata": {
        "id": "1fDJzG6FoWpO"
      },
      "source": [
        ""
      ],
      "execution_count": null,
      "outputs": []
    }
  ]
}